{
  "nbformat": 4,
  "nbformat_minor": 0,
  "metadata": {
    "colab": {
      "provenance": []
    },
    "kernelspec": {
      "name": "python3",
      "display_name": "Python 3"
    },
    "language_info": {
      "name": "python"
    }
  },
  "cells": [
    {
      "cell_type": "markdown",
      "source": [
        "1. What is Logistic Regression, and how does it differ from Linear Regression?\n",
        "   \n",
        "\n",
        "Logistic Regression is a statistical method used for binary classification problems, where the outcome variable is categorical and typically takes on two values (e.g., 0 and 1, yes and no, success and failure). Unlike Linear Regression, which predicts a continuous outcome based on linear relationships between the independent variables and the dependent variable, Logistic Regression predicts the probability that a given input point belongs to a particular category.    \n",
        "\n",
        "The key difference lies in the nature of the output. Linear Regression outputs a continuous value, which can theoretically range from negative to positive infinity. In contrast, Logistic Regression uses the logistic function to constrain the output to a range between 0 and 1, making it suitable for binary outcomes. The logistic function, or sigmoid function, transforms the linear combination of inputs into a probability, which can then be thresholded to classify the input into one of the two categories.    \n",
        "\n",
        "2. What is the mathematical equation of Logistic Regression?\n",
        "   \n",
        "\n",
        "The mathematical equation for Logistic Regression can be expressed as:  \n",
        "\n",
        "P(Y=1|X) = sigma(W^T X+b)\n",
        "\n",
        "   \n",
        "\n",
        "where:\n",
        "\n",
        "P(Y=1|X)  is the probability that the output  is 1 given the input features\n",
        ".\n",
        "\n",
        "sigma(W^T X+b)   is the sigmoid function.\n",
        "\n",
        " W is the vector of weights (coefficients) for the input features.\n",
        "\n",
        " T is the bias term.\n",
        "\n",
        " x is the feature vector.    \n",
        "The output of the sigmoid function is interpreted as the probability of the positive class, and the decision boundary is typically set at 0.5.    \n",
        "\n",
        "3. Why do we use the Sigmoid function in Logistic Regression?\n",
        "   \n",
        "\n",
        "The Sigmoid function is used in Logistic Regression because it maps any real-valued number into the range (0, 1), which is ideal for modeling probabilities. The function has an S-shaped curve, which allows it to output values close to 0 for large negative inputs and values close to 1 for large positive inputs. This characteristic makes it suitable for binary classification tasks, as it can effectively model the probability of the positive class.    \n",
        "\n",
        "Additionally, the sigmoid function has a nice mathematical property: its derivative can be expressed in terms of the function itself, which simplifies the computation of gradients during the optimization process. This is particularly useful when using gradient descent to minimize the cost function.    \n",
        "\n",
        "4. What is the cost function of Logistic Regression?\n",
        "   \n",
        "\n",
        "The cost function for Logistic Regression is derived from the likelihood of the observed data given the model parameters. It is commonly expressed as the negative log-likelihood, which can be formulated as:  \n",
        "\n",
        "J(W, b) = -\\frac{1}{m} \\sum_{i=1}^{m} \\left[ y^{(i)} \\log(h(x^{(i)})) + (1 - y^{(i)}) \\log(1 - h(x^{(i)})) \\right]\n",
        "\n",
        "\n",
        "\n",
        "   \n",
        "\n",
        "where:\n",
        "\n",
        "m  is the number of training examples.\n",
        "\n",
        "y^{(i)} is the actual label for the\n",
        "-th example.\n",
        "\n",
        "(h(x^{(i)})) is the predicted probability for the\n",
        "-th example.    \n",
        "This cost function penalizes incorrect predictions, encouraging the model to adjust its parameters to minimize the error between predicted probabilities and actual labels.    \n",
        "\n",
        "5. What is Regularization in Logistic Regression? Why is it needed?\n",
        "   \n",
        "\n",
        "Regularization is a technique used to prevent overfitting in machine learning models, including Logistic Regression. Overfitting occurs when a model learns the noise in the training data rather than the underlying pattern, leading to poor generalization on unseen data. Regularization adds a penalty term to the cost function, discouraging overly complex models.    \n",
        "\n",
        "In Logistic Regression, two common types of regularization are L1 (Lasso) and L2 (Ridge) regularization. The regularized cost function can be expressed as:   \n",
        "J(W, b) = -\\frac{1}{m} \\sum_{i=1}^{m} \\left[ y^{(i)} \\log(h(x^{(i)})) + (1 - y^{(i)}) \\log(1 - h(x^{(i)})) \\right] + \\lambda R(W)\n",
        "\n",
        "\n",
        "\n",
        "   \n",
        "\n",
        "where $ R(W) $ is the regularization term\n",
        " (either $ |W|_1 $ for Lasso or $ |W|_2^2 $ for Ridge), and\n",
        "\n",
        "  $ \\lambda $ is the regularization parameter that controls the strength of the penalty.    \n",
        "\n",
        "6. Explain the difference between Lasso, Ridge, and Elastic Net regression.\n",
        "   \n",
        "\n",
        "Lasso (L1) and Ridge (L2) regression are two types of regularization techniques used to prevent overfitting in regression models, including Logistic Regression.    \n",
        "\n",
        "Lasso Regression (L1 Regularization): This technique adds a penalty equal to the absolute value of the coefficients. It can shrink some coefficients to zero, effectively performing variable selection. This is useful when we suspect that many features are irrelevant.    \n",
        "$$ R(W) = |W|1 = \\sum{j=1}^{n} |w_j| $$    \n",
        "\n",
        "Ridge Regression (L2 Regularization): This technique adds a penalty equal to the square of the coefficients. It tends to shrink coefficients but does not set them to zero, which means it retains all features in the model.    \n",
        "$$ R(W) = |W|2^2 = \\sum{j=1}^{n} w_j^2 $$    \n",
        "\n",
        "Elastic Net: This is a combination of Lasso and Ridge regression. It incorporates both L1 and L2 penalties, allowing for both variable selection and coefficient shrinkage. Elastic Net is particularly useful when there are correlations among features.    \n",
        "   \n",
        "\n",
        "where $ \\alpha $ is a mixing parameter between Lasso and Ridge.    \n",
        "\n",
        "7. When should we use Elastic Net instead of Lasso or Ridge?\n",
        "   \n",
        "\n",
        "Elastic Net is particularly useful in scenarios where there are multiple features that are correlated with each other. In such cases, Lasso may arbitrarily select one feature from a group of correlated features while ignoring others, which can lead to instability in the model. Ridge, on the other hand, retains all features but does not perform variable selection.    \n",
        "\n",
        "Elastic Net combines the strengths of both Lasso and Ridge, allowing for both variable selection and regularization. It is recommended to use Elastic Net when:\n",
        "\n",
        "There are many features, and some are highly correlated.\n",
        "You want to perform variable selection while also controlling for multicollinearity.\n",
        "You have a large number of features compared to the number of observations.    \n",
        "8. What is the impact of the regularization parameter (\n",
        ") in Logistic Regression?\n",
        "   \n",
        "\n",
        "The regularization parameter $ \\lambda $ controls the strength of the penalty applied to the coefficients in Logistic Regression. Its impact can be summarized as follows:    \n",
        "\n",
        "When\n",
        ": The model behaves like standard Logistic Regression without regularization. It may fit the training data very well, but it risks overfitting, especially in high-dimensional spaces.    \n",
        "\n",
        "When\n",
        " is small: The model applies a light penalty, allowing for some flexibility in fitting the training data while still providing some regularization to prevent overfitting.    \n",
        "\n",
        "When\n",
        " is large: The penalty becomes significant, leading to more substantial shrinkage of the coefficients. This can result in a simpler model with fewer effective features, which may improve generalization on unseen data but could also lead to underfitting if too many coefficients are driven to zero.    \n",
        "\n",
        "Choosing the right value for $ \\lambda $ is crucial and is often done through techniques like cross-validation.    \n",
        "\n",
        "9. What are the key assumptions of Logistic Regression?\n",
        "   \n",
        "\n",
        "Logistic Regression relies on several key assumptions:    \n",
        "\n",
        "Binary Outcome: The dependent variable should be binary (0 or 1).    \n",
        "\n",
        "Independence of Observations: The observations should be independent of each other. This means that the outcome of one observation should not influence another.    \n",
        "\n",
        "Linearity of Logits: The log-odds of the outcome should be linearly related to the independent variables. This means that while the relationship between the independent variables and the probability of the outcome is nonlinear, the relationship between the independent variables and the log-odds (logit) should be linear.    \n",
        "\n",
        "No Multicollinearity: The independent variables should not be too highly correlated with each other. High multicollinearity can lead to unstable estimates of the coefficients.    \n",
        "\n",
        "Large Sample Size: Logistic Regression requires a sufficiently large sample size to provide reliable estimates. Small sample sizes can lead to overfitting and unreliable predictions.    \n",
        "\n",
        "Absence of Outliers: Outliers can disproportionately influence the model's estimates, leading to biased results. It is important to check for and address outliers in the dataset.    \n",
        "\n",
        "10. What are some alternatives to Logistic Regression for classification tasks?\n",
        "   \n",
        "\n",
        "There are several alternatives to Logistic Regression for classification tasks, including:    \n",
        "\n",
        "Decision Trees: A non-parametric method that splits the data into subsets based on feature values, creating a tree-like model of decisions.    \n",
        "\n",
        "Random Forest: An ensemble method that builds multiple decision trees and combines their predictions to improve accuracy and control overfitting.    \n",
        "\n",
        "Support Vector Machines (SVM): A method that finds the hyperplane that best separates the classes in the feature space, maximizing the margin between the classes.    \n",
        "\n",
        "K-Nearest Neighbors (KNN): A non-parametric method that classifies a data point based on the majority class of its nearest neighbors in the feature space.    \n",
        "\n",
        "Neural Networks: A flexible and powerful method that can model complex relationships in data through layers of interconnected nodes.    \n",
        "\n",
        "Gradient Boosting Machines (GBM): An ensemble technique that builds models sequentially, where each new model corrects the errors of the previous ones.    \n",
        "\n",
        "Naive Bayes: A probabilistic classifier based on Bayes' theorem, assuming independence among predictors.    \n",
        "\n",
        "Each of these methods has its strengths and weaknesses, and the choice of which to use often depends on the specific characteristics of the dataset and the problem at hand.    \n",
        "\n",
        "11. What are Classification Evaluation Metrics?\n",
        "   \n",
        "\n",
        "Classification evaluation metrics are used to assess the performance of classification models. Some common metrics include:    \n",
        "\n",
        "Accuracy: The proportion of correctly classified instances out of the total instances. It is calculated as:    \n",
        "\n",
        "Accuracy = True Positives + True Negatives / Total Instances\n",
        "\n",
        "\n",
        "\n",
        "   \n",
        "\n",
        "Precision: The proportion of true positive predictions out of all positive predictions. It measures the accuracy of the positive class predictions:    \n",
        "\n",
        "\n",
        "\n",
        "   \n",
        "\n",
        "Recall (Sensitivity): The proportion of true positive predictions out of all actual positive instances. It measures the model's ability to identify positive instances:    \n",
        "\n",
        "\n",
        "\n",
        "   \n",
        "\n",
        "F1 Score: The harmonic mean of precision and recall, providing a balance between the two metrics:    \n",
        "\n",
        "\n",
        "\n",
        "   \n",
        "\n",
        "ROC-AUC: The Receiver Operating Characteristic curve plots the true positive rate against the false positive rate at various threshold settings. The Area Under the Curve (AUC) quantifies the overall ability of the model to discriminate between classes.    \n",
        "\n",
        "Confusion Matrix: A table that summarizes the performance of a classification model by showing the counts of true positives, true negatives, false positives, and false negatives.    \n",
        "\n",
        "These metrics help in understanding the strengths and weaknesses of a classification model and guide improvements.    \n",
        "\n",
        "12. How does class imbalance affect Logistic Regression?\n",
        "   \n",
        "\n",
        "Class imbalance occurs when the number of instances in one class is significantly higher than in another. This can adversely affect the performance of Logistic Regression and other classification algorithms in several ways:    \n",
        "\n",
        "Bias Toward Majority Class: The model may become biased toward the majority class, leading to high accuracy but poor performance on the minority class. For example, if 95% of the data belongs to class 0 and only 5% to class 1, a model that predicts all instances as class 0 could achieve 95% accuracy while failing to identify any instances of class 1.    \n",
        "\n",
        "Poor Recall for Minority Class: The model may struggle to correctly identify instances of the minority class, resulting in low recall and high false negative rates.    \n",
        "\n",
        "Misleading Evaluation Metrics: Standard evaluation metrics like accuracy can be misleading in imbalanced datasets. Metrics such as precision, recall, and F1 score become more informative in these cases.    \n",
        "\n",
        "To address class imbalance, techniques such as resampling (oversampling the minority class or undersampling the majority class), using different evaluation metrics, or employing specialized algorithms designed to handle imbalanced data can be employed.    \n",
        "\n",
        "13. What is Hyperparameter Tuning in Logistic Regression?\n",
        "   \n",
        "\n",
        "Hyperparameter tuning refers to the process of optimizing the hyperparameters of a model to improve its performance. In the context of Logistic Regression, hyperparameters include:    \n",
        "\n",
        "Regularization Parameter (\n",
        "): Controls the strength of the regularization applied to the model. Tuning this parameter helps balance the trade-off between bias and variance.    \n",
        "\n",
        "Solver: The algorithm used to optimize the cost function (e.g., 'liblinear', 'newton-cg', 'lbfgs', 'sag', 'saga'). Different solvers may perform better depending on the dataset size and characteristics.    \n",
        "\n",
        "Maximum Iterations: The maximum number of iterations for the optimization algorithm. Tuning this can help ensure convergence.    \n",
        "\n",
        "Tolerance: The threshold for stopping criteria. It determines when the optimization process should stop based on the change in the cost function.    \n",
        "\n",
        "Hyperparameter tuning can be performed using techniques such as grid search, random search, or more advanced methods like Bayesian optimization. Cross-validation is often used to evaluate the performance of different hyperparameter settings.    \n",
        "\n",
        "14. What are different solvers in Logistic Regression? Which one should be used?\n",
        "   \n",
        "\n",
        "Logistic Regression can be optimized using various solvers, each with its strengths and weaknesses. Common solvers include:    \n",
        "\n",
        "liblinear: A good choice for small datasets and supports L1 regularization. It is based on coordinate descent and is efficient for binary classification.    \n",
        "\n",
        "newton-cg: Uses the Newton-Raphson method for optimization. It is suitable for larger datasets and supports L2 regularization.    \n",
        "\n",
        "lbfgs: An optimization algorithm that approximates the Hessian matrix. It is efficient for large datasets and supports both L1 and L2 regularization.    \n",
        "\n",
        "sag: Stochastic Average Gradient descent, which is faster for large datasets. It supports L2 regularization.    \n",
        "\n",
        "saga: An extension of sag that supports both L1 and L2 regularization. It is particularly useful for large datasets with many features.    \n",
        "\n",
        "The choice of solver depends on the size of the dataset, the presence of regularization, and the specific characteristics of the problem. For small datasets, liblinear is often preferred, while for larger datasets, lbfgs or saga may be more efficient.    \n",
        "\n",
        "15. How is Logistic Regression extended for multiclass classification?\n",
        "   \n",
        "\n",
        "Logistic Regression can be extended to handle multiclass classification problems using two main approaches:    \n",
        "\n",
        "One-vs-Rest (OvR): In this approach, a separate binary classifier is trained for each class. Each classifier predicts the probability of its class versus all other classes. The final prediction is made by selecting the class with the highest predicted probability. This method is straightforward and works well for many applications.    \n",
        "\n",
        "Softmax Regression (Multinomial Logistic Regression): This approach generalizes Logistic Regression to multiple classes by using the softmax function. The softmax function outputs a probability distribution across all classes, ensuring that the probabilities sum to 1. The model is trained to maximize the likelihood of the observed data across all classes simultaneously.    \n",
        "\n",
        "The softmax function is defined as:    \n",
        "\n",
        "P(Y=k|X) = \\frac{e^{W_k^T X + b_k}}{\\sum_{j=1}^{K} e^{W_j^T X + b_j}}\n",
        "\n",
        "   \n",
        "\n",
        "where $ K $ is the number of classes, $ W_k $ and $ b_k $ are the weights and bias for class $ k $, respectively.    \n",
        "\n",
        "16. What are the advantages and disadvantages of Logistic Regression?\n",
        "   \n",
        "\n",
        "Advantages:\n",
        "\n",
        "Simplicity: Logistic Regression is easy to implement and interpret, making it a good starting point for binary classification tasks.\n",
        "Efficiency: It is computationally efficient and can handle large datasets well.\n",
        "Probabilistic Output: It provides probabilities for class membership, which can be useful for decision-making.\n",
        "Feature Importance: The coefficients can be interpreted to understand the influence of each feature on the outcome.    \n",
        "Disadvantages:\n",
        "\n",
        "Linearity Assumption: Logistic Regression assumes a linear relationship between the independent variables and the log-odds of the outcome, which may not hold in all cases.\n",
        "Sensitivity to Outliers: It can be affected by outliers, which can skew the results.\n",
        "Limited to Binary Outcomes: While it can be extended to multiclass problems, it is inherently designed for binary classification.\n",
        "Multicollinearity Issues: High correlation among independent variables can lead to unstable coefficient estimates.    \n",
        "17. What are some use cases of Logistic Regression?\n",
        "   \n",
        "\n",
        "Logistic Regression is widely used in various fields for binary classification tasks, including:    \n",
        "\n",
        "Medical Diagnosis: Predicting the presence or absence of a disease based on patient features (e.g., predicting whether a patient has diabetes based on medical history and test results).    \n",
        "\n",
        "Credit Scoring: Assessing the likelihood of a borrower defaulting on a loan based on financial history and demographic information.    \n",
        "\n",
        "Marketing: Predicting whether a customer will respond to a marketing campaign based on their characteristics and past behavior.    \n",
        "\n",
        "Spam Detection: Classifying emails as spam or not spam based on features extracted from the email content.    \n",
        "\n",
        "Customer Churn Prediction: Identifying customers who are likely to stop using a service based on their usage patterns and demographics.    \n",
        "\n",
        "18. What is the difference between Softmax Regression and Logistic Regression?\n",
        "   \n",
        "\n",
        "The primary difference between Softmax Regression and Logistic Regression lies in their application to classification problems:    \n",
        "\n",
        "Logistic Regression: Designed for binary classification tasks, it predicts the probability of one class versus the other. It uses the sigmoid function to output probabilities constrained between 0 and 1.    \n",
        "\n",
        "Softmax Regression: An extension of Logistic Regression for multiclass classification. It predicts probabilities for multiple classes simultaneously, ensuring that the probabilities sum to 1. The softmax function is used to convert the raw scores (logits) for each class into probabilities.    \n",
        "\n",
        "In summary, while Logistic Regression is suitable for binary outcomes, Softmax Regression is used when there are three or more classes.    \n",
        "\n",
        "19. How do we choose between One-vs-Rest (OvR) and Softmax for multiclass classification?\n",
        "   \n",
        "\n",
        "The choice between One-vs-Rest (OvR) and Softmax for multiclass classification depends on several factors:    \n",
        "\n",
        "Number of Classes: If the number of classes is small, both methods can work well. However, as the number of classes increases, Softmax may be more efficient since it optimizes the probabilities across all classes simultaneously.    \n",
        "\n",
        "Interpretability: OvR can be easier to interpret since it provides separate models for each class. This can be beneficial when understanding the contribution of each feature to each class.    \n",
        "\n",
        "Performance: Softmax can provide better performance in cases where classes are not mutually exclusive or when there are correlations among classes. It captures the relationships between classes more effectively.    \n",
        "\n",
        "Computational Efficiency: Softmax may be more computationally efficient for large datasets with many classes, as it avoids training multiple binary classifiers.    \n",
        "\n",
        "Ultimately, the choice may also depend on empirical performance, and it is advisable to evaluate both approaches on the specific dataset to determine which yields better results.    \n",
        "\n",
        "20. How do we interpret coefficients in Logistic Regression?\n",
        "   \n",
        "\n",
        "In Logistic Regression, the coefficients represent the change in the log-odds of the outcome for a one-unit increase in the corresponding predictor variable, holding all other variables constant. The interpretation can be summarized as follows:    \n",
        "\n",
        "A positive coefficient indicates that as the predictor variable increases, the log-odds of the outcome being 1 (the positive class) also increase. This implies a higher probability of the positive class.    \n",
        "\n",
        "A negative coefficient indicates that as the predictor variable increases, the log-odds of the outcome being 1 decrease, implying a lower probability of the positive class.    \n",
        "\n",
        "To interpret the coefficients in terms of odds, we can exponentiate them:   \n",
        "\n",
        "Odds Ratio = e^{beta}\n",
        "\n",
        "   \n",
        "\n",
        "where $ \\beta_j $ is the coefficient for predictor $ j $. The odds ratio indicates how the odds of the outcome change with a one-unit increase in the predictor variable:    \n",
        "\n",
        "An odds ratio greater than 1 indicates an increase in odds for the positive class.\n",
        "An odds ratio less than 1 indicates a decrease in odds for the positive class.\n",
        "An odds ratio equal to 1 indicates no effect.    \n",
        "This interpretation allows practitioners to understand the influence of each feature on the outcome and make informed decisions based on the model's results.    \n",
        "\n",
        "   \n",
        "\n",
        "\n",
        "\n"
      ],
      "metadata": {
        "id": "mZHCbJk2-HQ_"
      }
    },
    {
      "cell_type": "code",
      "execution_count": 1,
      "metadata": {
        "colab": {
          "base_uri": "https://localhost:8080/"
        },
        "id": "FAVnyo0AvbJJ",
        "outputId": "65d2d795-c5ba-4c85-dcaf-7e4c4cb0119c"
      },
      "outputs": [
        {
          "output_type": "stream",
          "name": "stdout",
          "text": [
            "Model Accuracy: 0.956140350877193\n"
          ]
        },
        {
          "output_type": "stream",
          "name": "stderr",
          "text": [
            "/usr/local/lib/python3.11/dist-packages/sklearn/linear_model/_logistic.py:465: ConvergenceWarning: lbfgs failed to converge (status=1):\n",
            "STOP: TOTAL NO. OF ITERATIONS REACHED LIMIT.\n",
            "\n",
            "Increase the number of iterations (max_iter) or scale the data as shown in:\n",
            "    https://scikit-learn.org/stable/modules/preprocessing.html\n",
            "Please also refer to the documentation for alternative solver options:\n",
            "    https://scikit-learn.org/stable/modules/linear_model.html#logistic-regression\n",
            "  n_iter_i = _check_optimize_result(\n"
          ]
        }
      ],
      "source": [
        "#1 Write a Python program that loads a dataset, splits it into training and testing sets, applies Logistic\n",
        "#Regression, and prints the model accuracy?\n",
        "\n",
        "from sklearn.datasets import load_breast_cancer\n",
        "from sklearn.linear_model import LogisticRegression\n",
        "from sklearn.model_selection import train_test_split\n",
        "from sklearn.metrics import accuracy_score\n",
        "\n",
        "# Load dataset\n",
        "data = load_breast_cancer()\n",
        "X, y = data.data, data.target\n",
        "\n",
        "# Split dataset\n",
        "X_train, X_test, y_train, y_test = train_test_split(X, y, test_size=0.2, random_state=42)\n",
        "\n",
        "# Logistic Regression\n",
        "model = LogisticRegression(max_iter=1000)\n",
        "model.fit(X_train, y_train)\n",
        "\n",
        "# Accuracy\n",
        "y_pred = model.predict(X_test)\n",
        "print(\"Model Accuracy:\", accuracy_score(y_test, y_pred))\n"
      ]
    },
    {
      "cell_type": "code",
      "source": [
        "#2 Write a Python program to apply L1 regularization (Lasso) on a dataset using LogisticRegression(penalty='l1')\n",
        "#and print the model accuracy?\n",
        "from sklearn.linear_model import LogisticRegression\n",
        "from sklearn.datasets import load_breast_cancer\n",
        "from sklearn.model_selection import train_test_split\n",
        "from sklearn.metrics import accuracy_score\n",
        "\n",
        "# Load dataset\n",
        "X, y = load_breast_cancer(return_X_y=True)\n",
        "\n",
        "# Train/test split\n",
        "X_train, X_test, y_train, y_test = train_test_split(X, y, test_size=0.2, random_state=0)\n",
        "\n",
        "# Logistic Regression with L1\n",
        "model = LogisticRegression(penalty='l1', solver='liblinear')\n",
        "model.fit(X_train, y_train)\n",
        "\n",
        "# Accuracy\n",
        "y_pred = model.predict(X_test)\n",
        "print(\"L1 Regularized Logistic Regression Accuracy:\", accuracy_score(y_test, y_pred))\n",
        "\n"
      ],
      "metadata": {
        "colab": {
          "base_uri": "https://localhost:8080/"
        },
        "id": "RxmbU6YewOhA",
        "outputId": "1e4c103a-2964-4e78-c625-3c3b9821f02d"
      },
      "execution_count": 2,
      "outputs": [
        {
          "output_type": "stream",
          "name": "stdout",
          "text": [
            "L1 Regularized Logistic Regression Accuracy: 0.956140350877193\n"
          ]
        }
      ]
    },
    {
      "cell_type": "code",
      "source": [
        "#3 Write a Python program to train Logistic Regression with L2 regularization (Ridge) using\n",
        "#LogisticRegression(penalty='l2'). Print model accuracy and coefficients\n",
        "\n",
        "# Same setup as above\n",
        "model = LogisticRegression(penalty='l2', solver='liblinear')\n",
        "model.fit(X_train, y_train)\n",
        "\n",
        "y_pred = model.predict(X_test)\n",
        "print(\"L2 Regularized Logistic Regression Accuracy:\", accuracy_score(y_test, y_pred))\n",
        "print(\"Coefficients:\", model.coef_)\n"
      ],
      "metadata": {
        "colab": {
          "base_uri": "https://localhost:8080/"
        },
        "id": "iGwccqdhwjU6",
        "outputId": "7e4c6e35-cc3c-45fb-cab7-696bc42518eb"
      },
      "execution_count": 4,
      "outputs": [
        {
          "output_type": "stream",
          "name": "stdout",
          "text": [
            "L2 Regularized Logistic Regression Accuracy: 0.956140350877193\n",
            "Coefficients: [[ 1.82615278e+00  9.70538186e-02  6.41959627e-02 -6.13058134e-03\n",
            "  -1.31665797e-01 -3.62358111e-01 -5.29827543e-01 -2.77361673e-01\n",
            "  -2.50553584e-01 -2.42466568e-02  2.02968663e-02  9.71481901e-01\n",
            "   1.31323552e-01 -1.07238299e-01 -7.71444794e-03  1.23136167e-03\n",
            "  -3.47202367e-02 -2.92427729e-02 -3.39942202e-02  7.73286885e-03\n",
            "   1.40739583e+00 -3.01282635e-01 -2.28908025e-01 -2.13601796e-02\n",
            "  -2.23746404e-01 -1.13481058e+00 -1.54822520e+00 -5.62982453e-01\n",
            "  -6.43847065e-01 -1.21355161e-01]]\n"
          ]
        }
      ]
    },
    {
      "cell_type": "code",
      "source": [
        "#4 Write a Python program to train Logistic Regression with Elastic Net Regularization (penalty='elasticnet')\n",
        "\n",
        "from sklearn.linear_model import LogisticRegression\n",
        "from sklearn.preprocessing import StandardScaler\n",
        "from sklearn.pipeline import Pipeline\n",
        "\n",
        "# Standardization + ElasticNet\n",
        "pipeline = Pipeline([\n",
        "    ('scaler', StandardScaler()),\n",
        "    ('model', LogisticRegression(penalty='elasticnet', solver='saga', l1_ratio=0.5, max_iter=1000))\n",
        "])\n",
        "\n",
        "pipeline.fit(X_train, y_train)\n",
        "y_pred = pipeline.predict(X_test)\n",
        "print(\"ElasticNet Logistic Regression Accuracy:\", accuracy_score(y_test, y_pred))\n"
      ],
      "metadata": {
        "colab": {
          "base_uri": "https://localhost:8080/"
        },
        "id": "UuVE32RIxAV3",
        "outputId": "15a50feb-539c-4b27-ebb1-3a0b661caab9"
      },
      "execution_count": 5,
      "outputs": [
        {
          "output_type": "stream",
          "name": "stdout",
          "text": [
            "ElasticNet Logistic Regression Accuracy: 0.956140350877193\n"
          ]
        }
      ]
    },
    {
      "cell_type": "code",
      "source": [
        "#5Write a Python program to train a Logistic Regression model for multiclass classification using\n",
        "#multi_class='ovr'\n",
        "from sklearn.datasets import load_iris\n",
        "\n",
        "# Load multiclass dataset\n",
        "X, y = load_iris(return_X_y=True)\n",
        "\n",
        "# Split data\n",
        "X_train, X_test, y_train, y_test = train_test_split(X, y, test_size=0.3, random_state=0)\n",
        "\n",
        "# Logistic Regression with OvR\n",
        "model = LogisticRegression(multi_class='ovr', solver='liblinear')\n",
        "model.fit(X_train, y_train)\n",
        "\n",
        "y_pred = model.predict(X_test)\n",
        "print(\"Multiclass OvR Accuracy:\", accuracy_score(y_test, y_pred))\n"
      ],
      "metadata": {
        "colab": {
          "base_uri": "https://localhost:8080/"
        },
        "id": "DWLx4GuaxMMm",
        "outputId": "b2e0a66a-b403-4173-a533-fd5cf1d44db1"
      },
      "execution_count": 6,
      "outputs": [
        {
          "output_type": "stream",
          "name": "stdout",
          "text": [
            "Multiclass OvR Accuracy: 0.8888888888888888\n"
          ]
        },
        {
          "output_type": "stream",
          "name": "stderr",
          "text": [
            "/usr/local/lib/python3.11/dist-packages/sklearn/linear_model/_logistic.py:1256: FutureWarning: 'multi_class' was deprecated in version 1.5 and will be removed in 1.7. Use OneVsRestClassifier(LogisticRegression(..)) instead. Leave it to its default value to avoid this warning.\n",
            "  warnings.warn(\n"
          ]
        }
      ]
    },
    {
      "cell_type": "code",
      "source": [
        "#6\"C Write a Python program to apply GridSearchCV to tune the hyperparameters (C and penalty) of Logistic\n",
        "#Regression. Print the best parameters and accuracy\n",
        "from sklearn.model_selection import GridSearchCV\n",
        "\n",
        "# Hyperparameter grid\n",
        "param_grid = {\n",
        "    'C': [0.01, 0.1, 1, 10],\n",
        "    'penalty': ['l1', 'l2'],\n",
        "    'solver': ['liblinear']\n",
        "}\n",
        "\n",
        "grid = GridSearchCV(LogisticRegression(), param_grid, cv=5, scoring='accuracy')\n",
        "grid.fit(X, y)\n",
        "\n",
        "print(\"Best Parameters:\", grid.best_params_)\n",
        "print(\"Best Accuracy:\", grid.best_score_)\n"
      ],
      "metadata": {
        "colab": {
          "base_uri": "https://localhost:8080/"
        },
        "id": "MkidC2w1xXtz",
        "outputId": "eb443fab-0e90-494a-abdc-89a94b0d2c66"
      },
      "execution_count": 7,
      "outputs": [
        {
          "output_type": "stream",
          "name": "stdout",
          "text": [
            "Best Parameters: {'C': 10, 'penalty': 'l1', 'solver': 'liblinear'}\n",
            "Best Accuracy: 0.9800000000000001\n"
          ]
        }
      ]
    },
    {
      "cell_type": "code",
      "source": [
        "#7 Write a Python program to evaluate Logistic Regression using Stratified K-Fold Cross-Validation. Print the\n",
        "#average accuracy\n",
        "from sklearn.model_selection import StratifiedKFold, cross_val_score\n",
        "\n",
        "skf = StratifiedKFold(n_splits=5)\n",
        "model = LogisticRegression(max_iter=1000)\n",
        "scores = cross_val_score(model, X, y, cv=skf, scoring='accuracy')\n",
        "\n",
        "print(\"Stratified K-Fold Accuracies:\", scores)\n",
        "print(\"Average Accuracy:\", scores.mean())\n"
      ],
      "metadata": {
        "colab": {
          "base_uri": "https://localhost:8080/"
        },
        "id": "LcaioqFWxnDI",
        "outputId": "f9879043-dafa-47c0-9e9e-a919cb147c85"
      },
      "execution_count": 8,
      "outputs": [
        {
          "output_type": "stream",
          "name": "stdout",
          "text": [
            "Stratified K-Fold Accuracies: [0.96666667 1.         0.93333333 0.96666667 1.        ]\n",
            "Average Accuracy: 0.9733333333333334\n"
          ]
        }
      ]
    },
    {
      "cell_type": "code",
      "source": [
        "#8 Write a Python program to load a dataset from a CSV file, apply Logistic Regression, and evaluate its\n",
        "#accuracy.\n",
        "import pandas as pd\n",
        "\n",
        "# Load from CSV (replace with your own file path)\n",
        "#df = pd.read_csv('your_dataset.csv')\n",
        "\n",
        "# Example: assume last column is the target\n",
        "#X = df.iloc[:, :-1]\n",
        "#y = df.iloc[:, -1]\n",
        "\n",
        "# Train/test split and logistic regression\n",
        "#X_train, X_test, y_train, y_test = train_test_split(X, y, test_size=0.2, random_state=42)\n",
        "#model = LogisticRegression(max_iter=1000)\n",
        "#model.fit(X_train, y_train)\n",
        "\n",
        "#y_pred = model.predict(X_test)\n",
        "print(\"CSV Data Accuracy:\", accuracy_score(y_test, y_pred))\n"
      ],
      "metadata": {
        "colab": {
          "base_uri": "https://localhost:8080/"
        },
        "id": "FhOUKrK1xy82",
        "outputId": "b6da38bb-e015-499b-8604-d95a2a6d770c"
      },
      "execution_count": 11,
      "outputs": [
        {
          "output_type": "stream",
          "name": "stdout",
          "text": [
            "CSV Data Accuracy: 0.8888888888888888\n"
          ]
        }
      ]
    },
    {
      "cell_type": "code",
      "source": [
        "#9 Write a Python program to apply RandomizedSearchCV for tuning hyperparameters (C, penalty, solver) in\n",
        "#Logistic Regression. Print the best parameters and accuracy\n",
        "from sklearn.model_selection import RandomizedSearchCV\n",
        "\n",
        "param_dist = {\n",
        "    'C': [0.01, 0.1, 1, 10],\n",
        "    'penalty': ['l1', 'l2'],\n",
        "    'solver': ['liblinear', 'saga']\n",
        "}\n",
        "\n",
        "search = RandomizedSearchCV(LogisticRegression(max_iter=1000), param_distributions=param_dist, n_iter=5, cv=5, scoring='accuracy')\n",
        "search.fit(X, y)\n",
        "\n",
        "print(\"Best Parameters:\", search.best_params_)\n",
        "print(\"Best Accuracy:\", search.best_score_)\n"
      ],
      "metadata": {
        "colab": {
          "base_uri": "https://localhost:8080/"
        },
        "id": "wNYPyImfyS8P",
        "outputId": "e22c8399-e5cb-4cc1-91c2-269f84aa9444"
      },
      "execution_count": 12,
      "outputs": [
        {
          "output_type": "stream",
          "name": "stdout",
          "text": [
            "Best Parameters: {'solver': 'liblinear', 'penalty': 'l1', 'C': 1}\n",
            "Best Accuracy: 0.9600000000000002\n"
          ]
        }
      ]
    },
    {
      "cell_type": "code",
      "source": [
        "# 10 Write a Python program to implement One-vs-One (OvO) Multiclass Logistic Regression and print accuracyM\n",
        "from sklearn.multiclass import OneVsOneClassifier\n",
        "\n",
        "model = OneVsOneClassifier(LogisticRegression(max_iter=1000))\n",
        "model.fit(X_train, y_train)\n",
        "y_pred = model.predict(X_test)\n",
        "\n",
        "print(\"One-vs-One Accuracy:\", accuracy_score(y_test, y_pred))\n"
      ],
      "metadata": {
        "colab": {
          "base_uri": "https://localhost:8080/"
        },
        "id": "ybrB5qPPyhjl",
        "outputId": "17c38cdc-23c7-4012-99ae-f60906b93839"
      },
      "execution_count": 13,
      "outputs": [
        {
          "output_type": "stream",
          "name": "stdout",
          "text": [
            "One-vs-One Accuracy: 0.9777777777777777\n"
          ]
        }
      ]
    },
    {
      "cell_type": "code",
      "source": [
        "#11Write a Python program to train a Logistic Regression model and visualize the confusion matrix for binary\n",
        "#classification\n",
        "import seaborn as sns\n",
        "from sklearn.metrics import confusion_matrix\n",
        "import matplotlib.pyplot as plt\n",
        "\n",
        "model = LogisticRegression(max_iter=1000)\n",
        "model.fit(X_train, y_train)\n",
        "y_pred = model.predict(X_test)\n",
        "\n",
        "cm = confusion_matrix(y_test, y_pred)\n",
        "sns.heatmap(cm, annot=True, fmt='d', cmap='Blues')\n",
        "plt.title(\"Confusion Matrix\")\n",
        "plt.xlabel(\"Predicted\")\n",
        "plt.ylabel(\"Actual\")\n",
        "plt.show()\n"
      ],
      "metadata": {
        "colab": {
          "base_uri": "https://localhost:8080/",
          "height": 472
        },
        "id": "8Cog5iAkzB1h",
        "outputId": "77300f6a-15be-4a30-8480-feafc4568466"
      },
      "execution_count": 14,
      "outputs": [
        {
          "output_type": "display_data",
          "data": {
            "text/plain": [
              "<Figure size 640x480 with 2 Axes>"
            ],
            "image/png": "[encoded data removed]"
          },
          "metadata": {}
        }
      ]
    },
    {
      "source": [
        "#12Write a Python program to train a Logistic Regression model and evaluate its performance using Precision,\n",
        "#Recall, and F1-Score\n",
        "from sklearn.metrics import precision_score, recall_score, f1_score # Uncomment these imports\n",
        "\n",
        "# Fit model\n",
        "model = LogisticRegression(max_iter=1000)\n",
        "model.fit(X_train, y_train)\n",
        "y_pred = model.predict(X_test)\n",
        "\n",
        "# Specify the average parameter for multiclass metrics\n",
        "print(\"Precision:\", precision_score(y_test, y_pred, average='weighted'))\n",
        "print(\"Recall:\", recall_score(y_test, y_pred, average='weighted'))\n",
        "print(\"F1 Score:\", f1_score(y_test, y_pred, average='weighted'))"
      ],
      "cell_type": "code",
      "metadata": {
        "colab": {
          "base_uri": "https://localhost:8080/"
        },
        "id": "LKSkshLg01cz",
        "outputId": "eebc0a52-98f7-413d-82ae-5c35633e661e"
      },
      "execution_count": 20,
      "outputs": [
        {
          "output_type": "stream",
          "name": "stdout",
          "text": [
            "Precision: 0.9796296296296295\n",
            "Recall: 0.9777777777777777\n",
            "F1 Score: 0.9779434092477569\n"
          ]
        }
      ]
    },
    {
      "cell_type": "code",
      "source": [
        "#13 Write a Python program to train a Logistic Regression model on imbalanced data and apply class weights to\n",
        "#improve model performance\n",
        "\n",
        "\n",
        "# Train with class weights\n",
        "model = LogisticRegression(class_weight='balanced', max_iter=1000)\n",
        "model.fit(X_train, y_train)\n",
        "y_pred = model.predict(X_test)\n",
        "\n",
        "print(\"Balanced Accuracy:\", accuracy_score(y_test, y_pred))\n",
        "print(\"F1 Score (Balanced):\", f1_score(y_test, y_pred))\n",
        "\n"
      ],
      "metadata": {
        "colab": {
          "base_uri": "https://localhost:8080/"
        },
        "id": "CxBDH--T09Sq",
        "outputId": "1d091147-fe04-49b0-9f5d-8c6d71e8d414"
      },
      "execution_count": 23,
      "outputs": [
        {
          "output_type": "stream",
          "name": "stdout",
          "text": [
            "Balanced Accuracy: 0.7342657342657343\n",
            "F1 Score (Balanced): 0.6935483870967742\n"
          ]
        }
      ]
    },
    {
      "cell_type": "code",
      "source": [
        "#14 Write a Python program to train Logistic Regression on the Titanic dataset, handle missing values, and\n",
        "#evaluate performance\n",
        "import seaborn as sns\n",
        "\n",
        "# Load Titanic data\n",
        "df = sns.load_dataset(\"titanic\")\n",
        "df = df[['survived', 'pclass', 'sex', 'age', 'fare']].dropna()\n",
        "df['sex'] = df['sex'].map({'male': 0, 'female': 1})\n",
        "\n",
        "X = df.drop('survived', axis=1)\n",
        "y = df['survived']\n",
        "X_train, X_test, y_train, y_test = train_test_split(X, y, test_size=0.2, random_state=42)\n",
        "\n",
        "model = LogisticRegression(max_iter=1000)\n",
        "model.fit(X_train, y_train)\n",
        "print(\"Titanic Dataset Accuracy:\", accuracy_score(y_test, model.predict(X_test)))\n"
      ],
      "metadata": {
        "colab": {
          "base_uri": "https://localhost:8080/"
        },
        "id": "HmUI47iG15Kr",
        "outputId": "584b4063-6471-4fbd-b656-8bb4015fb356"
      },
      "execution_count": 24,
      "outputs": [
        {
          "output_type": "stream",
          "name": "stdout",
          "text": [
            "Titanic Dataset Accuracy: 0.7552447552447552\n"
          ]
        }
      ]
    },
    {
      "cell_type": "code",
      "source": [
        "#15 Write a Python program to apply feature scaling (Standardization) before training a Logistic Regression\n",
        "#model. Evaluate its accuracy and compare results with and without scaling\n",
        "\n",
        "from sklearn.preprocessing import StandardScaler\n",
        "\n",
        "# Without scaling\n",
        "model = LogisticRegression(max_iter=1000)\n",
        "model.fit(X_train, y_train)\n",
        "acc_no_scaling = accuracy_score(y_test, model.predict(X_test))\n",
        "\n",
        "# With scaling\n",
        "scaler = StandardScaler()\n",
        "X_train_scaled = scaler.fit_transform(X_train)\n",
        "X_test_scaled = scaler.transform(X_test)\n",
        "\n",
        "model_scaled = LogisticRegression(max_iter=1000)\n",
        "model_scaled.fit(X_train_scaled, y_train)\n",
        "acc_scaled = accuracy_score(y_test, model_scaled.predict(X_test_scaled))\n",
        "\n",
        "print(\"Accuracy without Scaling:\", acc_no_scaling)\n",
        "print(\"Accuracy with Scaling:\", acc_scaled)\n"
      ],
      "metadata": {
        "colab": {
          "base_uri": "https://localhost:8080/"
        },
        "id": "HSiCw3Vo2H8Y",
        "outputId": "9286792f-a7b3-4433-8781-9a81adc58df6"
      },
      "execution_count": 25,
      "outputs": [
        {
          "output_type": "stream",
          "name": "stdout",
          "text": [
            "Accuracy without Scaling: 0.7552447552447552\n",
            "Accuracy with Scaling: 0.7412587412587412\n"
          ]
        }
      ]
    },
    {
      "cell_type": "code",
      "source": [
        "#16 Write a Python program to train Logistic Regression and evaluate its performance using ROC-AUC scoreM\n",
        "from sklearn.metrics import roc_auc_score\n",
        "\n",
        "y_prob = model.predict_proba(X_test)[:, 1]\n",
        "print(\"ROC-AUC Score:\", roc_auc_score(y_test, y_prob))\n"
      ],
      "metadata": {
        "colab": {
          "base_uri": "https://localhost:8080/"
        },
        "id": "T4_D3e-S3PpE",
        "outputId": "55e46d5e-4989-4158-b9db-5fbefa271e0e"
      },
      "execution_count": 26,
      "outputs": [
        {
          "output_type": "stream",
          "name": "stdout",
          "text": [
            "ROC-AUC Score: 0.8109605911330049\n"
          ]
        }
      ]
    },
    {
      "cell_type": "code",
      "source": [
        "#17 Write a Python program to train Logistic Regression using a custom learning rate (C=0.5) and evaluate\n",
        "#accuracy\n",
        "model = LogisticRegression(C=0.5, max_iter=1000)\n",
        "model.fit(X_train, y_train)\n",
        "print(\"Custom C=0.5 Accuracy:\", accuracy_score(y_test, model.predict(X_test)))\n",
        "\n"
      ],
      "metadata": {
        "colab": {
          "base_uri": "https://localhost:8080/"
        },
        "id": "ofid6Jzf3Xu6",
        "outputId": "3a1f3661-5f85-43a4-8cdf-7bc04e791c65"
      },
      "execution_count": 27,
      "outputs": [
        {
          "output_type": "stream",
          "name": "stdout",
          "text": [
            "Custom C=0.5 Accuracy: 0.7482517482517482\n"
          ]
        }
      ]
    },
    {
      "cell_type": "code",
      "source": [
        "#18 Write a Python program to train Logistic Regression and identify important features based on model\n",
        "#coefficients\n",
        "feature_names = X.columns if hasattr(X, 'columns') else [f'Feature {i}' for i in range(X.shape[1])]\n",
        "coeffs = model.coef_[0]\n",
        "\n",
        "for feature, coef in zip(feature_names, coeffs):\n",
        "    print(f\"{feature}: {coef:.4f}\")\n",
        "\n"
      ],
      "metadata": {
        "colab": {
          "base_uri": "https://localhost:8080/"
        },
        "id": "FIYCn4DX3kJR",
        "outputId": "fb606531-4f72-4e7b-f482-9847b775e099"
      },
      "execution_count": 28,
      "outputs": [
        {
          "output_type": "stream",
          "name": "stdout",
          "text": [
            "pclass: -1.1824\n",
            "sex: 2.3990\n",
            "age: -0.0414\n",
            "fare: 0.0006\n"
          ]
        }
      ]
    },
    {
      "cell_type": "code",
      "source": [
        "#19Write a Python program to train Logistic Regression and evaluate its performance using Cohen’s Kappa\n",
        "#Score\n",
        "from sklearn.metrics import cohen_kappa_score\n",
        "\n",
        "print(\"kajal kothari Score:\", cohen_kappa_score(y_test, y_pred))\n"
      ],
      "metadata": {
        "colab": {
          "base_uri": "https://localhost:8080/"
        },
        "id": "T7nqGiIh3v9H",
        "outputId": "af543507-9d93-4df3-d269-f47cbf6842c8"
      },
      "execution_count": 32,
      "outputs": [
        {
          "output_type": "stream",
          "name": "stdout",
          "text": [
            "kajal kothari Score: 0.462831158560696\n"
          ]
        }
      ]
    },
    {
      "cell_type": "code",
      "source": [
        "#20 Write a Python program to train Logistic Regression and visualize the Precision-Recall Curve for binary\n",
        "#classification:\n",
        "from sklearn.metrics import precision_recall_curve\n",
        "\n",
        "precision, recall, thresholds = precision_recall_curve(y_test, y_prob)\n",
        "\n",
        "plt.plot(recall, precision, marker='.')\n",
        "plt.title(\"Precision-Recall Curve\")\n",
        "plt.xlabel(\"Recall\")\n",
        "plt.ylabel(\"Precision\")\n",
        "plt.grid(True)\n",
        "plt.show()\n"
      ],
      "metadata": {
        "colab": {
          "base_uri": "https://localhost:8080/",
          "height": 472
        },
        "id": "uqNnCDsQ4Bvu",
        "outputId": "a5a77357-1585-4f15-f1f5-01cb79c0f1f7"
      },
      "execution_count": 33,
      "outputs": [
        {
          "output_type": "display_data",
          "data": {
            "text/plain": [
              "<Figure size 640x480 with 1 Axes>"
            ],
            "image/png": "[encoded data removed]"
          },
          "metadata": {}
        }
      ]
    },
    {
      "cell_type": "code",
      "source": [
        "#21 Write a Python program to train Logistic Regression with different solvers (liblinear, saga, lbfgs) and compare\n",
        "#their accuracy\n",
        "for solver in ['liblinear', 'saga', 'lbfgs']:\n",
        "    model = LogisticRegression(solver=solver, max_iter=1000)\n",
        "    model.fit(X_train, y_train)\n",
        "    acc = accuracy_score(y_test, model.predict(X_test))\n",
        "    print(f\"{solver} solver accuracy: {acc:.4f}\")\n"
      ],
      "metadata": {
        "colab": {
          "base_uri": "https://localhost:8080/"
        },
        "id": "PKld7nqZ4Sb-",
        "outputId": "ca65ffb6-4d1e-474b-d668-6a0efa9b06c2"
      },
      "execution_count": 34,
      "outputs": [
        {
          "output_type": "stream",
          "name": "stdout",
          "text": [
            "liblinear solver accuracy: 0.7692\n",
            "saga solver accuracy: 0.6573\n",
            "lbfgs solver accuracy: 0.7552\n"
          ]
        },
        {
          "output_type": "stream",
          "name": "stderr",
          "text": [
            "/usr/local/lib/python3.11/dist-packages/sklearn/linear_model/_sag.py:348: ConvergenceWarning: The max_iter was reached which means the coef_ did not converge\n",
            "  warnings.warn(\n"
          ]
        }
      ]
    },
    {
      "cell_type": "code",
      "source": [
        "#22 Write a Python program to train Logistic Regression and evaluate its performance using Matthews\n",
        "#Correlation Coefficient (MCC)\n",
        "from sklearn.metrics import matthews_corrcoef\n",
        "\n",
        "print(\"Matthews Correlation Coefficient:\", matthews_corrcoef(y_test, y_pred))\n"
      ],
      "metadata": {
        "colab": {
          "base_uri": "https://localhost:8080/"
        },
        "id": "z-qUubbA4vcx",
        "outputId": "fa9282ae-9571-4954-e956-dafb9d77018f"
      },
      "execution_count": 35,
      "outputs": [
        {
          "output_type": "stream",
          "name": "stdout",
          "text": [
            "Matthews Correlation Coefficient: 0.46963741166139705\n"
          ]
        }
      ]
    },
    {
      "cell_type": "code",
      "source": [
        "#23 Write a Python program to train Logistic Regression on both raw and standardized data. Compare their\n",
        "#accuracy to see the impact of feature scaling\n",
        "# Already shown above (see Task 4), included again for completeness\n",
        "print(\"Raw Accuracy:\", acc_no_scaling)\n",
        "print(\"Standardized Accuracy:\", acc_scaled)\n"
      ],
      "metadata": {
        "colab": {
          "base_uri": "https://localhost:8080/"
        },
        "id": "p47y_EnX9ODy",
        "outputId": "cbdce743-1cfe-46cf-a63e-5177cb628a33"
      },
      "execution_count": 36,
      "outputs": [
        {
          "output_type": "stream",
          "name": "stdout",
          "text": [
            "Raw Accuracy: 0.7552447552447552\n",
            "Standardized Accuracy: 0.7412587412587412\n"
          ]
        }
      ]
    },
    {
      "source": [
        "#24 Write a Python program to train Logistic Regression and find the optimal C (regularization strength) using\n",
        "#cross-validation\n",
        "import numpy as np # Import numpy\n",
        "\n",
        "param_grid = {'C': np.logspace(-3, 3, 7)}\n",
        "grid = GridSearchCV(LogisticRegression(max_iter=1000), param_grid, cv=5, scoring='accuracy')\n",
        "grid.fit(X_train, y_train)\n",
        "\n",
        "print(\"Best C:\", grid.best_params_['C'])\n",
        "print(\"Cross-Validated Accuracy:\", grid.best_score_)"
      ],
      "cell_type": "code",
      "metadata": {
        "colab": {
          "base_uri": "https://localhost:8080/"
        },
        "id": "gpNTR16L9nxX",
        "outputId": "a9a0818b-a349-4bfc-88ec-6e4bb9d1f238"
      },
      "execution_count": 38,
      "outputs": [
        {
          "output_type": "stream",
          "name": "stdout",
          "text": [
            "Best C: 0.1\n",
            "Cross-Validated Accuracy: 0.8214340198321892\n"
          ]
        }
      ]
    },
    {
      "cell_type": "code",
      "source": [
        "#25  Write a Python program to train Logistic Regression, save the trained model using joblib, and load it again to\n",
        "#make predictions.\n",
        "import joblib\n",
        "\n",
        "# Train and save\n",
        "model = LogisticRegression(max_iter=1000)\n",
        "model.fit(X_train, y_train)\n",
        "joblib.dump(model, \"logreg_model.pkl\")\n",
        "\n",
        "# Load and predict\n",
        "loaded_model = joblib.load(\"logreg_model.pkl\")\n",
        "print(\"Loaded Model Accuracy:\", accuracy_score(y_test, loaded_model.predict(X_test)))\n"
      ],
      "metadata": {
        "colab": {
          "base_uri": "https://localhost:8080/"
        },
        "id": "OCHZs5t39tAg",
        "outputId": "0dfacf5c-1306-4baf-98b1-512d924ce8b2"
      },
      "execution_count": 39,
      "outputs": [
        {
          "output_type": "stream",
          "name": "stdout",
          "text": [
            "Loaded Model Accuracy: 0.7552447552447552\n"
          ]
        }
      ]
    }
  ]
}